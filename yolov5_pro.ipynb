{
 "cells": [
  {
   "cell_type": "code",
   "execution_count": 2,
   "id": "df41837b-a6a2-403b-8401-dca967e8c7f9",
   "metadata": {},
   "outputs": [
    {
     "name": "stdout",
     "output_type": "stream",
     "text": [
      "Requirement already satisfied: torch in /home/dhanush/anaconda3/envs/ML/lib/python3.9/site-packages (1.12.1)\n",
      "Requirement already satisfied: typing_extensions in /home/dhanush/anaconda3/envs/ML/lib/python3.9/site-packages (from torch) (4.3.0)\n",
      "\u001b[31mERROR: Could not find a version that satisfies the requirement tensorflow==2.3.1 (from versions: 2.5.0, 2.5.1, 2.5.2, 2.5.3, 2.6.0rc0, 2.6.0rc1, 2.6.0rc2, 2.6.0, 2.6.1, 2.6.2, 2.6.3, 2.6.4, 2.6.5, 2.7.0rc0, 2.7.0rc1, 2.7.0, 2.7.1, 2.7.2, 2.7.3, 2.7.4, 2.8.0rc0, 2.8.0rc1, 2.8.0, 2.8.1, 2.8.2, 2.8.3, 2.9.0rc0, 2.9.0rc1, 2.9.0rc2, 2.9.0, 2.9.1, 2.9.2, 2.10.0rc0, 2.10.0rc1, 2.10.0rc2, 2.10.0rc3, 2.10.0)\u001b[0m\u001b[31m\n",
      "\u001b[0m\u001b[31mERROR: No matching distribution found for tensorflow==2.3.1\u001b[0m\u001b[31m\n",
      "\u001b[0mRequirement already satisfied: tensorboard==2.4.1 in /home/dhanush/anaconda3/envs/ML/lib/python3.9/site-packages (2.4.1)\n",
      "Requirement already satisfied: werkzeug>=0.11.15 in /home/dhanush/anaconda3/envs/ML/lib/python3.9/site-packages (from tensorboard==2.4.1) (2.2.2)\n",
      "Requirement already satisfied: protobuf>=3.6.0 in /home/dhanush/anaconda3/envs/ML/lib/python3.9/site-packages (from tensorboard==2.4.1) (3.19.5)\n",
      "Requirement already satisfied: absl-py>=0.4 in /home/dhanush/anaconda3/envs/ML/lib/python3.9/site-packages (from tensorboard==2.4.1) (1.2.0)\n",
      "Requirement already satisfied: wheel>=0.26 in /home/dhanush/anaconda3/envs/ML/lib/python3.9/site-packages (from tensorboard==2.4.1) (0.37.1)\n",
      "Requirement already satisfied: tensorboard-plugin-wit>=1.6.0 in /home/dhanush/anaconda3/envs/ML/lib/python3.9/site-packages (from tensorboard==2.4.1) (1.8.1)\n",
      "Requirement already satisfied: google-auth<2,>=1.6.3 in /home/dhanush/anaconda3/envs/ML/lib/python3.9/site-packages (from tensorboard==2.4.1) (1.35.0)\n",
      "Requirement already satisfied: markdown>=2.6.8 in /home/dhanush/anaconda3/envs/ML/lib/python3.9/site-packages (from tensorboard==2.4.1) (3.4.1)\n",
      "Requirement already satisfied: grpcio>=1.24.3 in /home/dhanush/anaconda3/envs/ML/lib/python3.9/site-packages (from tensorboard==2.4.1) (1.48.1)\n",
      "Requirement already satisfied: requests<3,>=2.21.0 in /home/dhanush/anaconda3/envs/ML/lib/python3.9/site-packages (from tensorboard==2.4.1) (2.28.1)\n",
      "Requirement already satisfied: setuptools>=41.0.0 in /home/dhanush/anaconda3/envs/ML/lib/python3.9/site-packages (from tensorboard==2.4.1) (63.4.1)\n",
      "Requirement already satisfied: numpy>=1.12.0 in /home/dhanush/anaconda3/envs/ML/lib/python3.9/site-packages (from tensorboard==2.4.1) (1.23.3)\n",
      "Requirement already satisfied: six>=1.10.0 in /home/dhanush/anaconda3/envs/ML/lib/python3.9/site-packages (from tensorboard==2.4.1) (1.16.0)\n",
      "Requirement already satisfied: google-auth-oauthlib<0.5,>=0.4.1 in /home/dhanush/anaconda3/envs/ML/lib/python3.9/site-packages (from tensorboard==2.4.1) (0.4.6)\n",
      "Requirement already satisfied: rsa<5,>=3.1.4 in /home/dhanush/anaconda3/envs/ML/lib/python3.9/site-packages (from google-auth<2,>=1.6.3->tensorboard==2.4.1) (4.9)\n",
      "Requirement already satisfied: cachetools<5.0,>=2.0.0 in /home/dhanush/anaconda3/envs/ML/lib/python3.9/site-packages (from google-auth<2,>=1.6.3->tensorboard==2.4.1) (4.2.4)\n",
      "Requirement already satisfied: pyasn1-modules>=0.2.1 in /home/dhanush/anaconda3/envs/ML/lib/python3.9/site-packages (from google-auth<2,>=1.6.3->tensorboard==2.4.1) (0.2.8)\n",
      "Requirement already satisfied: requests-oauthlib>=0.7.0 in /home/dhanush/anaconda3/envs/ML/lib/python3.9/site-packages (from google-auth-oauthlib<0.5,>=0.4.1->tensorboard==2.4.1) (1.3.1)\n",
      "Requirement already satisfied: importlib-metadata>=4.4 in /home/dhanush/anaconda3/envs/ML/lib/python3.9/site-packages (from markdown>=2.6.8->tensorboard==2.4.1) (4.12.0)\n",
      "Requirement already satisfied: certifi>=2017.4.17 in /home/dhanush/anaconda3/envs/ML/lib/python3.9/site-packages (from requests<3,>=2.21.0->tensorboard==2.4.1) (2022.9.14)\n",
      "Requirement already satisfied: charset-normalizer<3,>=2 in /home/dhanush/anaconda3/envs/ML/lib/python3.9/site-packages (from requests<3,>=2.21.0->tensorboard==2.4.1) (2.0.4)\n",
      "Requirement already satisfied: idna<4,>=2.5 in /home/dhanush/anaconda3/envs/ML/lib/python3.9/site-packages (from requests<3,>=2.21.0->tensorboard==2.4.1) (3.3)\n",
      "Requirement already satisfied: urllib3<1.27,>=1.21.1 in /home/dhanush/anaconda3/envs/ML/lib/python3.9/site-packages (from requests<3,>=2.21.0->tensorboard==2.4.1) (1.26.11)\n",
      "Requirement already satisfied: MarkupSafe>=2.1.1 in /home/dhanush/anaconda3/envs/ML/lib/python3.9/site-packages (from werkzeug>=0.11.15->tensorboard==2.4.1) (2.1.1)\n",
      "Requirement already satisfied: zipp>=0.5 in /home/dhanush/anaconda3/envs/ML/lib/python3.9/site-packages (from importlib-metadata>=4.4->markdown>=2.6.8->tensorboard==2.4.1) (3.8.1)\n",
      "Requirement already satisfied: pyasn1<0.5.0,>=0.4.6 in /home/dhanush/anaconda3/envs/ML/lib/python3.9/site-packages (from pyasn1-modules>=0.2.1->google-auth<2,>=1.6.3->tensorboard==2.4.1) (0.4.8)\n",
      "Requirement already satisfied: oauthlib>=3.0.0 in /home/dhanush/anaconda3/envs/ML/lib/python3.9/site-packages (from requests-oauthlib>=0.7.0->google-auth-oauthlib<0.5,>=0.4.1->tensorboard==2.4.1) (3.2.1)\n"
     ]
    }
   ],
   "source": [
    "!pip install torch\n",
    "!pip install tensorflow==2.3.1\n",
    "!pip install tensorboard==2.4.1"
   ]
  },
  {
   "cell_type": "code",
   "execution_count": 6,
   "id": "786162e4-5210-4277-b8a0-e5b4afe2ade4",
   "metadata": {},
   "outputs": [],
   "source": [
    "import torch"
   ]
  },
  {
   "cell_type": "code",
   "execution_count": 7,
   "id": "59197587-6348-44f5-b814-2204b9b3271f",
   "metadata": {},
   "outputs": [],
   "source": [
    "from IPython.display import Image"
   ]
  },
  {
   "cell_type": "code",
   "execution_count": 8,
   "id": "4ab5ee4b-281d-42a5-8149-796274997ab6",
   "metadata": {},
   "outputs": [
    {
     "name": "stdout",
     "output_type": "stream",
     "text": [
      "fatal: destination path 'yolov5' already exists and is not an empty directory.\n"
     ]
    }
   ],
   "source": [
    "!git clone https://github.com/ultralytics/yolov5 "
   ]
  },
  {
   "cell_type": "code",
   "execution_count": 9,
   "id": "ec458c0a-2c05-40bd-8153-01088e936e05",
   "metadata": {},
   "outputs": [
    {
     "name": "stdout",
     "output_type": "stream",
     "text": [
      "/home/dhanush/Documents/ML/yolov5\n"
     ]
    }
   ],
   "source": [
    "cd yolov5"
   ]
  },
  {
   "cell_type": "code",
   "execution_count": 10,
   "id": "fc6d745a-7d29-488d-8cd3-d6fda9db9bb7",
   "metadata": {},
   "outputs": [
    {
     "name": "stdout",
     "output_type": "stream",
     "text": [
      "Requirement already satisfied: matplotlib>=3.2.2 in /home/dhanush/anaconda3/envs/ML/lib/python3.9/site-packages (from -r requirements.txt (line 5)) (3.6.0)\n",
      "Requirement already satisfied: numpy>=1.18.5 in /home/dhanush/anaconda3/envs/ML/lib/python3.9/site-packages (from -r requirements.txt (line 6)) (1.23.3)\n",
      "Requirement already satisfied: opencv-python>=4.1.1 in /home/dhanush/anaconda3/envs/ML/lib/python3.9/site-packages (from -r requirements.txt (line 7)) (4.6.0.66)\n",
      "Requirement already satisfied: Pillow>=7.1.2 in /home/dhanush/anaconda3/envs/ML/lib/python3.9/site-packages (from -r requirements.txt (line 8)) (9.2.0)\n",
      "Requirement already satisfied: PyYAML>=5.3.1 in /home/dhanush/anaconda3/envs/ML/lib/python3.9/site-packages (from -r requirements.txt (line 9)) (6.0)\n",
      "Requirement already satisfied: requests>=2.23.0 in /home/dhanush/anaconda3/envs/ML/lib/python3.9/site-packages (from -r requirements.txt (line 10)) (2.28.1)\n",
      "Requirement already satisfied: scipy>=1.4.1 in /home/dhanush/anaconda3/envs/ML/lib/python3.9/site-packages (from -r requirements.txt (line 11)) (1.9.1)\n",
      "Requirement already satisfied: torch>=1.7.0 in /home/dhanush/anaconda3/envs/ML/lib/python3.9/site-packages (from -r requirements.txt (line 12)) (1.12.1)\n",
      "Requirement already satisfied: torchvision>=0.8.1 in /home/dhanush/anaconda3/envs/ML/lib/python3.9/site-packages (from -r requirements.txt (line 13)) (0.13.1)\n",
      "Requirement already satisfied: tqdm>=4.64.0 in /home/dhanush/anaconda3/envs/ML/lib/python3.9/site-packages (from -r requirements.txt (line 14)) (4.64.1)\n",
      "Requirement already satisfied: tensorboard>=2.4.1 in /home/dhanush/anaconda3/envs/ML/lib/python3.9/site-packages (from -r requirements.txt (line 18)) (2.4.1)\n",
      "Requirement already satisfied: pandas>=1.1.4 in /home/dhanush/anaconda3/envs/ML/lib/python3.9/site-packages (from -r requirements.txt (line 23)) (1.5.0)\n",
      "Requirement already satisfied: seaborn>=0.11.0 in /home/dhanush/anaconda3/envs/ML/lib/python3.9/site-packages (from -r requirements.txt (line 24)) (0.12.0)\n",
      "Requirement already satisfied: ipython in /home/dhanush/anaconda3/envs/ML/lib/python3.9/site-packages (from -r requirements.txt (line 41)) (8.4.0)\n",
      "Requirement already satisfied: psutil in /home/dhanush/anaconda3/envs/ML/lib/python3.9/site-packages (from -r requirements.txt (line 42)) (5.9.0)\n",
      "Requirement already satisfied: thop>=0.1.1 in /home/dhanush/anaconda3/envs/ML/lib/python3.9/site-packages (from -r requirements.txt (line 43)) (0.1.1.post2209072238)\n",
      "Requirement already satisfied: contourpy>=1.0.1 in /home/dhanush/anaconda3/envs/ML/lib/python3.9/site-packages (from matplotlib>=3.2.2->-r requirements.txt (line 5)) (1.0.5)\n",
      "Requirement already satisfied: pyparsing>=2.2.1 in /home/dhanush/anaconda3/envs/ML/lib/python3.9/site-packages (from matplotlib>=3.2.2->-r requirements.txt (line 5)) (3.0.9)\n",
      "Requirement already satisfied: kiwisolver>=1.0.1 in /home/dhanush/anaconda3/envs/ML/lib/python3.9/site-packages (from matplotlib>=3.2.2->-r requirements.txt (line 5)) (1.4.4)\n",
      "Requirement already satisfied: python-dateutil>=2.7 in /home/dhanush/anaconda3/envs/ML/lib/python3.9/site-packages (from matplotlib>=3.2.2->-r requirements.txt (line 5)) (2.8.2)\n",
      "Requirement already satisfied: fonttools>=4.22.0 in /home/dhanush/anaconda3/envs/ML/lib/python3.9/site-packages (from matplotlib>=3.2.2->-r requirements.txt (line 5)) (4.37.3)\n",
      "Requirement already satisfied: cycler>=0.10 in /home/dhanush/anaconda3/envs/ML/lib/python3.9/site-packages (from matplotlib>=3.2.2->-r requirements.txt (line 5)) (0.11.0)\n",
      "Requirement already satisfied: packaging>=20.0 in /home/dhanush/anaconda3/envs/ML/lib/python3.9/site-packages (from matplotlib>=3.2.2->-r requirements.txt (line 5)) (21.3)\n",
      "Requirement already satisfied: certifi>=2017.4.17 in /home/dhanush/anaconda3/envs/ML/lib/python3.9/site-packages (from requests>=2.23.0->-r requirements.txt (line 10)) (2022.9.14)\n",
      "Requirement already satisfied: charset-normalizer<3,>=2 in /home/dhanush/anaconda3/envs/ML/lib/python3.9/site-packages (from requests>=2.23.0->-r requirements.txt (line 10)) (2.0.4)\n",
      "Requirement already satisfied: urllib3<1.27,>=1.21.1 in /home/dhanush/anaconda3/envs/ML/lib/python3.9/site-packages (from requests>=2.23.0->-r requirements.txt (line 10)) (1.26.11)\n",
      "Requirement already satisfied: idna<4,>=2.5 in /home/dhanush/anaconda3/envs/ML/lib/python3.9/site-packages (from requests>=2.23.0->-r requirements.txt (line 10)) (3.3)\n",
      "Requirement already satisfied: typing_extensions in /home/dhanush/anaconda3/envs/ML/lib/python3.9/site-packages (from torch>=1.7.0->-r requirements.txt (line 12)) (4.3.0)\n",
      "Requirement already satisfied: protobuf>=3.6.0 in /home/dhanush/anaconda3/envs/ML/lib/python3.9/site-packages (from tensorboard>=2.4.1->-r requirements.txt (line 18)) (3.19.5)\n",
      "Requirement already satisfied: six>=1.10.0 in /home/dhanush/anaconda3/envs/ML/lib/python3.9/site-packages (from tensorboard>=2.4.1->-r requirements.txt (line 18)) (1.16.0)\n",
      "Requirement already satisfied: markdown>=2.6.8 in /home/dhanush/anaconda3/envs/ML/lib/python3.9/site-packages (from tensorboard>=2.4.1->-r requirements.txt (line 18)) (3.4.1)\n",
      "Requirement already satisfied: setuptools>=41.0.0 in /home/dhanush/anaconda3/envs/ML/lib/python3.9/site-packages (from tensorboard>=2.4.1->-r requirements.txt (line 18)) (63.4.1)\n",
      "Requirement already satisfied: google-auth-oauthlib<0.5,>=0.4.1 in /home/dhanush/anaconda3/envs/ML/lib/python3.9/site-packages (from tensorboard>=2.4.1->-r requirements.txt (line 18)) (0.4.6)\n",
      "Requirement already satisfied: grpcio>=1.24.3 in /home/dhanush/anaconda3/envs/ML/lib/python3.9/site-packages (from tensorboard>=2.4.1->-r requirements.txt (line 18)) (1.48.1)\n",
      "Requirement already satisfied: tensorboard-plugin-wit>=1.6.0 in /home/dhanush/anaconda3/envs/ML/lib/python3.9/site-packages (from tensorboard>=2.4.1->-r requirements.txt (line 18)) (1.8.1)\n",
      "Requirement already satisfied: werkzeug>=0.11.15 in /home/dhanush/anaconda3/envs/ML/lib/python3.9/site-packages (from tensorboard>=2.4.1->-r requirements.txt (line 18)) (2.2.2)\n",
      "Requirement already satisfied: wheel>=0.26 in /home/dhanush/anaconda3/envs/ML/lib/python3.9/site-packages (from tensorboard>=2.4.1->-r requirements.txt (line 18)) (0.37.1)\n",
      "Requirement already satisfied: google-auth<2,>=1.6.3 in /home/dhanush/anaconda3/envs/ML/lib/python3.9/site-packages (from tensorboard>=2.4.1->-r requirements.txt (line 18)) (1.35.0)\n",
      "Requirement already satisfied: absl-py>=0.4 in /home/dhanush/anaconda3/envs/ML/lib/python3.9/site-packages (from tensorboard>=2.4.1->-r requirements.txt (line 18)) (1.2.0)\n",
      "Requirement already satisfied: pytz>=2020.1 in /home/dhanush/anaconda3/envs/ML/lib/python3.9/site-packages (from pandas>=1.1.4->-r requirements.txt (line 23)) (2022.1)\n",
      "Requirement already satisfied: traitlets>=5 in /home/dhanush/anaconda3/envs/ML/lib/python3.9/site-packages (from ipython->-r requirements.txt (line 41)) (5.1.1)\n",
      "Requirement already satisfied: stack-data in /home/dhanush/anaconda3/envs/ML/lib/python3.9/site-packages (from ipython->-r requirements.txt (line 41)) (0.2.0)\n",
      "Requirement already satisfied: pexpect>4.3 in /home/dhanush/anaconda3/envs/ML/lib/python3.9/site-packages (from ipython->-r requirements.txt (line 41)) (4.8.0)\n",
      "Requirement already satisfied: decorator in /home/dhanush/anaconda3/envs/ML/lib/python3.9/site-packages (from ipython->-r requirements.txt (line 41)) (5.1.1)\n",
      "Requirement already satisfied: prompt-toolkit!=3.0.0,!=3.0.1,<3.1.0,>=2.0.0 in /home/dhanush/anaconda3/envs/ML/lib/python3.9/site-packages (from ipython->-r requirements.txt (line 41)) (3.0.20)\n",
      "Requirement already satisfied: pygments>=2.4.0 in /home/dhanush/anaconda3/envs/ML/lib/python3.9/site-packages (from ipython->-r requirements.txt (line 41)) (2.11.2)\n",
      "Requirement already satisfied: jedi>=0.16 in /home/dhanush/anaconda3/envs/ML/lib/python3.9/site-packages (from ipython->-r requirements.txt (line 41)) (0.18.1)\n",
      "Requirement already satisfied: backcall in /home/dhanush/anaconda3/envs/ML/lib/python3.9/site-packages (from ipython->-r requirements.txt (line 41)) (0.2.0)\n",
      "Requirement already satisfied: matplotlib-inline in /home/dhanush/anaconda3/envs/ML/lib/python3.9/site-packages (from ipython->-r requirements.txt (line 41)) (0.1.6)\n",
      "Requirement already satisfied: pickleshare in /home/dhanush/anaconda3/envs/ML/lib/python3.9/site-packages (from ipython->-r requirements.txt (line 41)) (0.7.5)\n",
      "Requirement already satisfied: pyasn1-modules>=0.2.1 in /home/dhanush/anaconda3/envs/ML/lib/python3.9/site-packages (from google-auth<2,>=1.6.3->tensorboard>=2.4.1->-r requirements.txt (line 18)) (0.2.8)\n",
      "Requirement already satisfied: cachetools<5.0,>=2.0.0 in /home/dhanush/anaconda3/envs/ML/lib/python3.9/site-packages (from google-auth<2,>=1.6.3->tensorboard>=2.4.1->-r requirements.txt (line 18)) (4.2.4)\n",
      "Requirement already satisfied: rsa<5,>=3.1.4 in /home/dhanush/anaconda3/envs/ML/lib/python3.9/site-packages (from google-auth<2,>=1.6.3->tensorboard>=2.4.1->-r requirements.txt (line 18)) (4.9)\n",
      "Requirement already satisfied: requests-oauthlib>=0.7.0 in /home/dhanush/anaconda3/envs/ML/lib/python3.9/site-packages (from google-auth-oauthlib<0.5,>=0.4.1->tensorboard>=2.4.1->-r requirements.txt (line 18)) (1.3.1)\n",
      "Requirement already satisfied: parso<0.9.0,>=0.8.0 in /home/dhanush/anaconda3/envs/ML/lib/python3.9/site-packages (from jedi>=0.16->ipython->-r requirements.txt (line 41)) (0.8.3)\n",
      "Requirement already satisfied: importlib-metadata>=4.4 in /home/dhanush/anaconda3/envs/ML/lib/python3.9/site-packages (from markdown>=2.6.8->tensorboard>=2.4.1->-r requirements.txt (line 18)) (4.12.0)\n",
      "Requirement already satisfied: ptyprocess>=0.5 in /home/dhanush/anaconda3/envs/ML/lib/python3.9/site-packages (from pexpect>4.3->ipython->-r requirements.txt (line 41)) (0.7.0)\n",
      "Requirement already satisfied: wcwidth in /home/dhanush/anaconda3/envs/ML/lib/python3.9/site-packages (from prompt-toolkit!=3.0.0,!=3.0.1,<3.1.0,>=2.0.0->ipython->-r requirements.txt (line 41)) (0.2.5)\n",
      "Requirement already satisfied: MarkupSafe>=2.1.1 in /home/dhanush/anaconda3/envs/ML/lib/python3.9/site-packages (from werkzeug>=0.11.15->tensorboard>=2.4.1->-r requirements.txt (line 18)) (2.1.1)\n",
      "Requirement already satisfied: pure-eval in /home/dhanush/anaconda3/envs/ML/lib/python3.9/site-packages (from stack-data->ipython->-r requirements.txt (line 41)) (0.2.2)\n",
      "Requirement already satisfied: executing in /home/dhanush/anaconda3/envs/ML/lib/python3.9/site-packages (from stack-data->ipython->-r requirements.txt (line 41)) (0.8.3)\n",
      "Requirement already satisfied: asttokens in /home/dhanush/anaconda3/envs/ML/lib/python3.9/site-packages (from stack-data->ipython->-r requirements.txt (line 41)) (2.0.5)\n",
      "Requirement already satisfied: zipp>=0.5 in /home/dhanush/anaconda3/envs/ML/lib/python3.9/site-packages (from importlib-metadata>=4.4->markdown>=2.6.8->tensorboard>=2.4.1->-r requirements.txt (line 18)) (3.8.1)\n",
      "Requirement already satisfied: pyasn1<0.5.0,>=0.4.6 in /home/dhanush/anaconda3/envs/ML/lib/python3.9/site-packages (from pyasn1-modules>=0.2.1->google-auth<2,>=1.6.3->tensorboard>=2.4.1->-r requirements.txt (line 18)) (0.4.8)\n",
      "Requirement already satisfied: oauthlib>=3.0.0 in /home/dhanush/anaconda3/envs/ML/lib/python3.9/site-packages (from requests-oauthlib>=0.7.0->google-auth-oauthlib<0.5,>=0.4.1->tensorboard>=2.4.1->-r requirements.txt (line 18)) (3.2.1)\n",
      "Note: you may need to restart the kernel to use updated packages.\n"
     ]
    }
   ],
   "source": [
    "pip install -r requirements.txt"
   ]
  },
  {
   "cell_type": "code",
   "execution_count": 11,
   "id": "265697cd-abc4-4066-bb1f-0e1222f89402",
   "metadata": {},
   "outputs": [],
   "source": [
    "import os\n",
    "import shutil\n",
    "from random import choice"
   ]
  },
  {
   "cell_type": "code",
   "execution_count": 12,
   "id": "2179bb35-cf0b-42ae-a82b-2908e6e43a32",
   "metadata": {},
   "outputs": [],
   "source": [
    "imgs = []\n",
    "xmls = []"
   ]
  },
  {
   "cell_type": "code",
   "execution_count": 13,
   "id": "67823150-8501-4f78-82cb-9c89551a3b11",
   "metadata": {},
   "outputs": [],
   "source": [
    "dspath = '/home/dhanush/Documents/ML/yolov5_pro/data/ts/ts/'\n",
    "trainpath = '/home/dhanush/Documents/ML/yolov5_pro/dataset/images/train'\n",
    "valpath = '/home/dhanush/Documents/ML/yolov5_pro/dataset/images/validation'"
   ]
  },
  {
   "cell_type": "code",
   "execution_count": 14,
   "id": "d7625fa8-9d79-4be1-967f-52f596cc47c9",
   "metadata": {},
   "outputs": [],
   "source": [
    "train_ratio = 0.8\n",
    "val_ratio  = 0.2"
   ]
  },
  {
   "cell_type": "code",
   "execution_count": 15,
   "id": "a192f407-3bfc-449c-801c-948f5ff9580f",
   "metadata": {},
   "outputs": [],
   "source": [
    "total_images = len(os.listdir(dspath))/2"
   ]
  },
  {
   "cell_type": "code",
   "execution_count": 16,
   "id": "5410c2a7-1455-4815-8e50-9e4b0ad833bf",
   "metadata": {},
   "outputs": [
    {
     "data": {
      "text/plain": [
       "741.0"
      ]
     },
     "execution_count": 16,
     "metadata": {},
     "output_type": "execute_result"
    }
   ],
   "source": [
    "total_images"
   ]
  },
  {
   "cell_type": "code",
   "execution_count": 17,
   "id": "5d9e042e-aba6-43ef-8f5a-8388ec359cb8",
   "metadata": {},
   "outputs": [],
   "source": [
    "for (dirnames, dirs, files) in os.walk(dspath):\n",
    "    for file in files:\n",
    "        if file.endswith('.txt'):\n",
    "            xmls.append(file)\n",
    "        else:\n",
    "            imgs.append(file)"
   ]
  },
  {
   "cell_type": "code",
   "execution_count": 18,
   "id": "30df7cab-e8d7-4f39-bb24-37bde14308b7",
   "metadata": {},
   "outputs": [],
   "source": [
    "len_img_train = int(len(imgs)*train_ratio)\n",
    "len_val_train = int(len(imgs)*val_ratio)\n"
   ]
  },
  {
   "cell_type": "code",
   "execution_count": 19,
   "id": "1f6e6e45-3782-4dc9-9a2f-e9cf02956e43",
   "metadata": {},
   "outputs": [
    {
     "name": "stdout",
     "output_type": "stream",
     "text": [
      "No. of trainig images are: 592 || No. of testing images are: 148\n"
     ]
    }
   ],
   "source": [
    "print(\"No. of trainig images are:\", len_img_train,\"|| No. of testing images are:\",len_val_train)"
   ]
  },
  {
   "cell_type": "code",
   "execution_count": 20,
   "id": "3376f28f-770c-4af9-b8d4-6345b482ceb3",
   "metadata": {},
   "outputs": [],
   "source": [
    "train_image = '/home/dhanush/Documents/ML/yolov5_pro/dataset/images/train'\n",
    "train_label = '/home/dhanush/Documents/ML/yolov5_pro/dataset/labels/train'\n",
    "vali_image = '/home/dhanush/Documents/ML/yolov5_pro/dataset/images/validation'\n",
    "vali_label = '/home/dhanush/Documents/ML/yolov5_pro/dataset/labels/validation'"
   ]
  },
  {
   "cell_type": "code",
   "execution_count": 21,
   "id": "b3dee8d3-ee44-4386-8d6b-364a7ff5ef51",
   "metadata": {},
   "outputs": [],
   "source": [
    "for i in range(len_img_train):\n",
    "    \n",
    "    filejpg = choice(imgs)\n",
    "    \n",
    "    filexml = filejpg[:-4] + '.txt'\n",
    "    \n",
    "    shutil.copy(os.path.join(dspath, filejpg), os.path.join(train_image, filejpg))\n",
    "    shutil.copy(os.path.join(dspath, filexml), os.path.join(train_label, filexml))\n",
    "    \n",
    "    imgs.remove(filejpg)\n",
    "    xmls.remove(filexml)"
   ]
  },
  {
   "cell_type": "code",
   "execution_count": 22,
   "id": "68d540bb-ea63-4921-87a7-4e5ffce87936",
   "metadata": {},
   "outputs": [],
   "source": [
    "for i in range(len_val_train):\n",
    "    \n",
    "    filejpg = choice(imgs)\n",
    "    \n",
    "    filexml = filejpg[:-4] + '.txt'\n",
    "    \n",
    "    shutil.copy(os.path.join(dspath, filejpg), os.path.join(vali_image, filejpg))\n",
    "    shutil.copy(os.path.join(dspath, filexml), os.path.join(vali_label, filexml))\n",
    "    \n",
    "    imgs.remove(filejpg)\n",
    "    xmls.remove(filexml)"
   ]
  },
  {
   "cell_type": "code",
   "execution_count": null,
   "id": "6c2138a3-f814-4a02-afcc-f42a2b3e2c7a",
   "metadata": {},
   "outputs": [],
   "source": [
    "shutil.move(dspath, valpath)"
   ]
  },
  {
   "cell_type": "code",
   "execution_count": null,
   "id": "24d1b070-b731-4f13-8829-b550b1d9c8ab",
   "metadata": {},
   "outputs": [],
   "source": [
    "!python train.py --img 415 --batch 16 --epochs 30 --data /home/dhanush/Documents/ML/yolov5_pro/dataset/dataset.yaml --weights yolov5s.pt --cache"
   ]
  },
  {
   "cell_type": "markdown",
   "id": "f9627f53-bf87-4d7d-87b2-628aaebd08e9",
   "metadata": {},
   "source": []
  }
 ],
 "metadata": {
  "kernelspec": {
   "display_name": "Python 3 (ipykernel)",
   "language": "python",
   "name": "python3"
  },
  "language_info": {
   "codemirror_mode": {
    "name": "ipython",
    "version": 3
   },
   "file_extension": ".py",
   "mimetype": "text/x-python",
   "name": "python",
   "nbconvert_exporter": "python",
   "pygments_lexer": "ipython3",
   "version": "3.9.13"
  }
 },
 "nbformat": 4,
 "nbformat_minor": 5
}
